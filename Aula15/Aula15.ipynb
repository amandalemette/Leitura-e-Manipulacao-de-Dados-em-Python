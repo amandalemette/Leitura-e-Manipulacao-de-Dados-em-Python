{
 "cells": [
  {
   "cell_type": "code",
   "execution_count": 1,
   "metadata": {
    "ExecuteTime": {
     "end_time": "2021-10-03T22:58:35.916747Z",
     "start_time": "2021-10-03T22:58:35.586993Z"
    }
   },
   "outputs": [],
   "source": [
    "import numpy as np\n",
    "import matplotlib.pyplot as plt"
   ]
  },
  {
   "cell_type": "code",
   "execution_count": 2,
   "metadata": {
    "ExecuteTime": {
     "end_time": "2021-10-03T22:58:35.931463Z",
     "start_time": "2021-10-03T22:58:35.928491Z"
    }
   },
   "outputs": [],
   "source": [
    "plt.rcParams.update({'font.size':14})"
   ]
  },
  {
   "cell_type": "code",
   "execution_count": 3,
   "metadata": {
    "ExecuteTime": {
     "end_time": "2021-10-03T22:58:52.094619Z",
     "start_time": "2021-10-03T22:58:52.089519Z"
    }
   },
   "outputs": [
    {
     "data": {
      "text/plain": [
       "array([0, 1, 2, 3, 4])"
      ]
     },
     "execution_count": 3,
     "metadata": {},
     "output_type": "execute_result"
    }
   ],
   "source": [
    "x = np.arange(5)\n",
    "x "
   ]
  },
  {
   "cell_type": "code",
   "execution_count": 4,
   "metadata": {
    "ExecuteTime": {
     "end_time": "2021-10-03T22:59:33.709694Z",
     "start_time": "2021-10-03T22:59:33.703907Z"
    }
   },
   "outputs": [
    {
     "data": {
      "text/plain": [
       "array([7.84827367, 5.51530774, 7.67138091, 6.81744068, 8.75518077])"
      ]
     },
     "execution_count": 4,
     "metadata": {},
     "output_type": "execute_result"
    }
   ],
   "source": [
    "y1 = np.random.uniform(0,10,len(x))\n",
    "y1 "
   ]
  },
  {
   "cell_type": "code",
   "execution_count": 5,
   "metadata": {
    "ExecuteTime": {
     "end_time": "2021-10-03T22:59:58.305046Z",
     "start_time": "2021-10-03T22:59:58.300316Z"
    }
   },
   "outputs": [
    {
     "data": {
      "text/plain": [
       "array([5.51530774, 6.81744068, 7.67138091, 7.84827367, 8.75518077])"
      ]
     },
     "execution_count": 5,
     "metadata": {},
     "output_type": "execute_result"
    }
   ],
   "source": [
    "y1 = np.sort(y1)\n",
    "y1 "
   ]
  },
  {
   "cell_type": "code",
   "execution_count": 6,
   "metadata": {
    "ExecuteTime": {
     "end_time": "2021-10-03T23:00:39.140704Z",
     "start_time": "2021-10-03T23:00:39.136255Z"
    }
   },
   "outputs": [
    {
     "data": {
      "text/plain": [
       "array([95.43465812, 58.93117831, 33.22065596, 18.77757471, 32.79005421])"
      ]
     },
     "execution_count": 6,
     "metadata": {},
     "output_type": "execute_result"
    }
   ],
   "source": [
    "y2 = np.random.uniform(10,100,len(x))\n",
    "y2 "
   ]
  },
  {
   "cell_type": "code",
   "execution_count": 49,
   "metadata": {
    "ExecuteTime": {
     "end_time": "2021-10-03T23:53:57.813825Z",
     "start_time": "2021-10-03T23:53:56.947492Z"
    }
   },
   "outputs": [
    {
     "data": {
      "image/png": "[encoded data removed]",
      "text/plain": [
       "<Figure size 432x288 with 2 Axes>"
      ]
     },
     "metadata": {
      "needs_background": "light"
     },
     "output_type": "display_data"
    }
   ],
   "source": [
    "fig,ax1 = plt.subplots()\n",
    "\n",
    "ax1.set_xlabel('X')\n",
    "ax1.set_ylabel('$Y_1$',color = 'red')\n",
    "ax1.tick_params(axis = 'y',labelcolor = 'red')\n",
    "ax1.plot(x,y1,marker = 's',markersize = 6,color = 'red',linestyle = '--',label ='y1')\n",
    "ax1.set_ylim([0,12])\n",
    "\n",
    "ax2 = ax1.twinx()\n",
    "ax2.set_ylabel('$Y_2$',color = 'green')\n",
    "ax2.tick_params(axis = 'y',labelcolor = 'green')\n",
    "ax2.bar(x,y2,color = 'green',alpha = 0.5,edgecolor = 'black',linewidth = 2,label = 'y2')\n",
    "ax2.set_ylim([0,120])\n",
    "\n",
    "ax1.legend(frameon = False)\n",
    "ax2.legend(loc = 2,frameon = False)\n",
    "\n",
    "plt.savefig('PlotFinal.png',dpi = 600)"
   ]
  },
  {
   "cell_type": "code",
   "execution_count": null,
   "metadata": {},
   "outputs": [],
   "source": []
  }
 ],
 "metadata": {
  "kernelspec": {
   "display_name": "Python 3",
   "language": "python",
   "name": "python3"
  },
  "language_info": {
   "codemirror_mode": {
    "name": "ipython",
    "version": 3
   },
   "file_extension": ".py",
   "mimetype": "text/x-python",
   "name": "python",
   "nbconvert_exporter": "python",
   "pygments_lexer": "ipython3",
   "version": "3.7.6"
  },
  "toc": {
   "base_numbering": 1,
   "nav_menu": {},
   "number_sections": true,
   "sideBar": true,
   "skip_h1_title": false,
   "title_cell": "Table of Contents",
   "title_sidebar": "Contents",
   "toc_cell": false,
   "toc_position": {},
   "toc_section_display": true,
   "toc_window_display": false
  }
 },
 "nbformat": 4,
 "nbformat_minor": 4
}
