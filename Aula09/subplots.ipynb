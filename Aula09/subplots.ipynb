{
 "cells": [
  {
   "cell_type": "code",
   "execution_count": 1,
   "metadata": {
    "execution": {
     "iopub.execute_input": "2021-01-18T10:42:10.626199Z",
     "iopub.status.busy": "2021-01-18T10:42:10.625329Z",
     "iopub.status.idle": "2021-01-18T10:42:10.750423Z",
     "shell.execute_reply": "2021-01-18T10:42:10.749641Z"
    },
    "papermill": {
     "duration": 0.163013,
     "end_time": "2021-01-18T10:42:10.750553",
     "exception": false,
     "start_time": "2021-01-18T10:42:10.587540",
     "status": "completed"
    },
    "tags": []
   },
   "outputs": [
    {
     "data": {
      "text/html": [
       "\n",
       "        <iframe\n",
       "            width=\"400\"\n",
       "            height=\"300\"\n",
       "            src=\"https://www.youtube.com/embed/yCYWCRbbtaM\"\n",
       "            frameborder=\"0\"\n",
       "            allowfullscreen\n",
       "        ></iframe>\n",
       "        "
      ],
      "text/plain": [
       "<IPython.lib.display.YouTubeVideo at 0x7f1f3c106710>"
      ]
     },
     "execution_count": 1,
     "metadata": {},
     "output_type": "execute_result"
    }
   ],
   "source": [
    "from IPython.display import YouTubeVideo\n",
    "YouTubeVideo(\"yCYWCRbbtaM\")"
   ]
  },
  {
   "cell_type": "code",
   "execution_count": 2,
   "metadata": {
    "ExecuteTime": {
     "end_time": "2021-01-18T09:48:53.761725Z",
     "start_time": "2021-01-18T09:48:53.431184Z"
    },
    "execution": {
     "iopub.execute_input": "2021-01-18T10:42:10.781762Z",
     "iopub.status.busy": "2021-01-18T10:42:10.780895Z",
     "iopub.status.idle": "2021-01-18T10:42:10.784241Z",
     "shell.execute_reply": "2021-01-18T10:42:10.783696Z"
    },
    "papermill": {
     "duration": 0.020152,
     "end_time": "2021-01-18T10:42:10.784373",
     "exception": false,
     "start_time": "2021-01-18T10:42:10.764221",
     "status": "completed"
    },
    "tags": []
   },
   "outputs": [],
   "source": [
    "import numpy as np\n",
    "import matplotlib.pyplot as plt"
   ]
  },
  {
   "cell_type": "code",
   "execution_count": 3,
   "metadata": {
    "ExecuteTime": {
     "end_time": "2021-01-18T09:48:53.767044Z",
     "start_time": "2021-01-18T09:48:53.764114Z"
    },
    "execution": {
     "iopub.execute_input": "2021-01-18T10:42:10.815210Z",
     "iopub.status.busy": "2021-01-18T10:42:10.814456Z",
     "iopub.status.idle": "2021-01-18T10:42:10.817953Z",
     "shell.execute_reply": "2021-01-18T10:42:10.817232Z"
    },
    "papermill": {
     "duration": 0.021101,
     "end_time": "2021-01-18T10:42:10.818079",
     "exception": false,
     "start_time": "2021-01-18T10:42:10.796978",
     "status": "completed"
    },
    "tags": []
   },
   "outputs": [],
   "source": [
    "plt.rcParams.update({'font.size':14})"
   ]
  },
  {
   "cell_type": "code",
   "execution_count": 4,
   "metadata": {
    "ExecuteTime": {
     "end_time": "2021-01-18T09:48:53.797662Z",
     "start_time": "2021-01-18T09:48:53.769930Z"
    },
    "execution": {
     "iopub.execute_input": "2021-01-18T10:42:10.851645Z",
     "iopub.status.busy": "2021-01-18T10:42:10.850548Z",
     "iopub.status.idle": "2021-01-18T10:42:10.855304Z",
     "shell.execute_reply": "2021-01-18T10:42:10.854754Z"
    },
    "papermill": {
     "duration": 0.024019,
     "end_time": "2021-01-18T10:42:10.855415",
     "exception": false,
     "start_time": "2021-01-18T10:42:10.831396",
     "status": "completed"
    },
    "tags": []
   },
   "outputs": [
    {
     "data": {
      "text/plain": [
       "array([ 1. ,  1.5,  2. ,  2.5,  3. ,  3.5,  4. ,  4.5,  5. ,  5.5,  6. ,\n",
       "        6.5,  7. ,  7.5,  8. ,  8.5,  9. ,  9.5, 10. , 10.5, 11. , 11.5,\n",
       "       12. , 12.5, 13. , 13.5, 14. , 14.5, 15. , 15.5, 16. , 16.5, 17. ,\n",
       "       17.5, 18. , 18.5, 19. , 19.5])"
      ]
     },
     "execution_count": 4,
     "metadata": {},
     "output_type": "execute_result"
    }
   ],
   "source": [
    "x = np.arange(1,20,0.5)\n",
    "x"
   ]
  },
  {
   "cell_type": "code",
   "execution_count": 5,
   "metadata": {
    "ExecuteTime": {
     "end_time": "2021-01-18T09:48:53.804310Z",
     "start_time": "2021-01-18T09:48:53.799834Z"
    },
    "execution": {
     "iopub.execute_input": "2021-01-18T10:42:10.891440Z",
     "iopub.status.busy": "2021-01-18T10:42:10.890280Z",
     "iopub.status.idle": "2021-01-18T10:42:10.895410Z",
     "shell.execute_reply": "2021-01-18T10:42:10.894850Z"
    },
    "papermill": {
     "duration": 0.026567,
     "end_time": "2021-01-18T10:42:10.895531",
     "exception": false,
     "start_time": "2021-01-18T10:42:10.868964",
     "status": "completed"
    },
    "tags": []
   },
   "outputs": [
    {
     "data": {
      "text/plain": [
       "array([-4.89614147, -4.77281401, -4.47626588, -4.01548703, -3.5342452 ,\n",
       "       -3.31150643, -3.2161145 , -3.10554557, -2.83388321, -2.39804979,\n",
       "       -1.78203088, -1.6859092 , -1.66307122, -1.53291472, -1.33246016,\n",
       "       -1.19139868, -1.13372616, -1.09664513, -0.79495165, -0.68885574,\n",
       "       -0.64873329, -0.37588382,  0.60800501,  1.05205108,  1.59834697,\n",
       "        1.63552276,  2.08097542,  2.17724607,  2.4503773 ,  2.63297913,\n",
       "        2.8349432 ,  2.89950903,  3.09594017,  3.18114989,  3.20774678,\n",
       "        3.41911449,  4.47911046,  4.9039598 ])"
      ]
     },
     "execution_count": 5,
     "metadata": {},
     "output_type": "execute_result"
    }
   ],
   "source": [
    "y1 = np.random.uniform(-5,5,len(x))\n",
    "y1 = np.sort(y1)\n",
    "y1"
   ]
  },
  {
   "cell_type": "code",
   "execution_count": 6,
   "metadata": {
    "ExecuteTime": {
     "end_time": "2021-01-18T09:48:53.811323Z",
     "start_time": "2021-01-18T09:48:53.806066Z"
    },
    "execution": {
     "iopub.execute_input": "2021-01-18T10:42:10.931285Z",
     "iopub.status.busy": "2021-01-18T10:42:10.930502Z",
     "iopub.status.idle": "2021-01-18T10:42:10.934598Z",
     "shell.execute_reply": "2021-01-18T10:42:10.933808Z"
    },
    "papermill": {
     "duration": 0.025406,
     "end_time": "2021-01-18T10:42:10.934739",
     "exception": false,
     "start_time": "2021-01-18T10:42:10.909333",
     "status": "completed"
    },
    "tags": []
   },
   "outputs": [
    {
     "data": {
      "text/plain": [
       "array([ 0.84147098,  0.99749499,  0.90929743,  0.59847214,  0.14112001,\n",
       "       -0.35078323, -0.7568025 , -0.97753012, -0.95892427, -0.70554033,\n",
       "       -0.2794155 ,  0.21511999,  0.6569866 ,  0.93799998,  0.98935825,\n",
       "        0.79848711,  0.41211849, -0.07515112, -0.54402111, -0.87969576,\n",
       "       -0.99999021, -0.87545217, -0.53657292, -0.0663219 ,  0.42016704,\n",
       "        0.80378443,  0.99060736,  0.93489506,  0.65028784,  0.20646748,\n",
       "       -0.28790332, -0.71178534, -0.96139749, -0.97562601, -0.75098725,\n",
       "       -0.34248062,  0.14987721,  0.60553987])"
      ]
     },
     "execution_count": 6,
     "metadata": {},
     "output_type": "execute_result"
    }
   ],
   "source": [
    "y2 = np.sin(x)\n",
    "y2"
   ]
  },
  {
   "cell_type": "code",
   "execution_count": 7,
   "metadata": {
    "ExecuteTime": {
     "end_time": "2021-01-18T09:48:53.819444Z",
     "start_time": "2021-01-18T09:48:53.813714Z"
    },
    "execution": {
     "iopub.execute_input": "2021-01-18T10:42:10.971631Z",
     "iopub.status.busy": "2021-01-18T10:42:10.970916Z",
     "iopub.status.idle": "2021-01-18T10:42:10.973921Z",
     "shell.execute_reply": "2021-01-18T10:42:10.974442Z"
    },
    "papermill": {
     "duration": 0.023665,
     "end_time": "2021-01-18T10:42:10.974595",
     "exception": false,
     "start_time": "2021-01-18T10:42:10.950930",
     "status": "completed"
    },
    "tags": []
   },
   "outputs": [
    {
     "data": {
      "text/plain": [
       "array([2.71828183e+00, 4.48168907e+00, 7.38905610e+00, 1.21824940e+01,\n",
       "       2.00855369e+01, 3.31154520e+01, 5.45981500e+01, 9.00171313e+01,\n",
       "       1.48413159e+02, 2.44691932e+02, 4.03428793e+02, 6.65141633e+02,\n",
       "       1.09663316e+03, 1.80804241e+03, 2.98095799e+03, 4.91476884e+03,\n",
       "       8.10308393e+03, 1.33597268e+04, 2.20264658e+04, 3.63155027e+04,\n",
       "       5.98741417e+04, 9.87157710e+04, 1.62754791e+05, 2.68337287e+05,\n",
       "       4.42413392e+05, 7.29416370e+05, 1.20260428e+06, 1.98275926e+06,\n",
       "       3.26901737e+06, 5.38969848e+06, 8.88611052e+06, 1.46507194e+07,\n",
       "       2.41549528e+07, 3.98247844e+07, 6.56599691e+07, 1.08254988e+08,\n",
       "       1.78482301e+08, 2.94267566e+08])"
      ]
     },
     "execution_count": 7,
     "metadata": {},
     "output_type": "execute_result"
    }
   ],
   "source": [
    "y3 = np.exp(x)\n",
    "y3"
   ]
  },
  {
   "cell_type": "code",
   "execution_count": 8,
   "metadata": {
    "ExecuteTime": {
     "end_time": "2021-01-18T09:48:53.826580Z",
     "start_time": "2021-01-18T09:48:53.821154Z"
    },
    "execution": {
     "iopub.execute_input": "2021-01-18T10:42:11.007950Z",
     "iopub.status.busy": "2021-01-18T10:42:11.007233Z",
     "iopub.status.idle": "2021-01-18T10:42:11.014721Z",
     "shell.execute_reply": "2021-01-18T10:42:11.014000Z"
    },
    "papermill": {
     "duration": 0.025372,
     "end_time": "2021-01-18T10:42:11.014847",
     "exception": false,
     "start_time": "2021-01-18T10:42:10.989475",
     "status": "completed"
    },
    "tags": []
   },
   "outputs": [
    {
     "data": {
      "text/plain": [
       "array([23.97220126, 22.77975354, 20.03695625, 16.12413606, 12.4908891 ,\n",
       "       10.96607485, 10.34339247,  9.64441326,  8.03089405,  5.75064278,\n",
       "        3.17563404,  2.84228983,  2.76580587,  2.34982754,  1.77545007,\n",
       "        1.41943082,  1.28533501,  1.20263053,  0.63194812,  0.47452224,\n",
       "        0.42085488,  0.14128865,  0.36967009,  1.10681148,  2.55471304,\n",
       "        2.67493471,  4.33045868,  4.74040044,  6.00434889,  6.93257912,\n",
       "        8.03690296,  8.4071526 ,  9.58484553, 10.11971462, 10.28963943,\n",
       "       11.69034388, 20.06243053, 24.04882174])"
      ]
     },
     "execution_count": 8,
     "metadata": {},
     "output_type": "execute_result"
    }
   ],
   "source": [
    "y4 = y1**2\n",
    "y4"
   ]
  },
  {
   "cell_type": "code",
   "execution_count": 9,
   "metadata": {
    "ExecuteTime": {
     "end_time": "2021-01-18T10:14:57.407361Z",
     "start_time": "2021-01-18T10:14:56.023488Z"
    },
    "execution": {
     "iopub.execute_input": "2021-01-18T10:42:11.060756Z",
     "iopub.status.busy": "2021-01-18T10:42:11.060047Z",
     "iopub.status.idle": "2021-01-18T10:42:11.947794Z",
     "shell.execute_reply": "2021-01-18T10:42:11.947061Z"
    },
    "papermill": {
     "duration": 0.917202,
     "end_time": "2021-01-18T10:42:11.947944",
     "exception": false,
     "start_time": "2021-01-18T10:42:11.030742",
     "status": "completed"
    },
    "tags": []
   },
   "outputs": [
    {
     "data": {
      "image/png": "[encoded data removed]",
      "text/plain": [
       "<Figure size 720x432 with 4 Axes>"
      ]
     },
     "metadata": {
      "needs_background": "light"
     },
     "output_type": "display_data"
    }
   ],
   "source": [
    "fig,axs = plt.subplots(2,2,sharex=True,figsize = (10,6))\n",
    "\n",
    "plt.suptitle('Figura 1')\n",
    "\n",
    "plt.subplots_adjust(hspace = 0.25,wspace = 0.15)\n",
    "\n",
    "axs[0,0].set_title('y1')\n",
    "axs[0,0].scatter(x,y1,c = 'tomato',marker = 's')\n",
    "\n",
    "axs[0,1].set_title('y2')\n",
    "axs[0,1].scatter(x,y2,c = 'green', marker = 'x')\n",
    "\n",
    "axs[1,0].set_title('y3')\n",
    "axs[1,0].scatter(x,y3,c = 'pink', marker = '*')\n",
    "\n",
    "axs[1,1].set_title('y4')\n",
    "axs[1,1].scatter(x,y4,c = 'orange')\n",
    "\n",
    "plt.show()"
   ]
  },
  {
   "cell_type": "code",
   "execution_count": null,
   "metadata": {
    "papermill": {
     "duration": 0.017213,
     "end_time": "2021-01-18T10:42:11.982384",
     "exception": false,
     "start_time": "2021-01-18T10:42:11.965171",
     "status": "completed"
    },
    "tags": []
   },
   "outputs": [],
   "source": []
  },
  {
   "cell_type": "code",
   "execution_count": null,
   "metadata": {
    "papermill": {
     "duration": 0.016998,
     "end_time": "2021-01-18T10:42:12.016723",
     "exception": false,
     "start_time": "2021-01-18T10:42:11.999725",
     "status": "completed"
    },
    "tags": []
   },
   "outputs": [],
   "source": []
  },
  {
   "cell_type": "code",
   "execution_count": null,
   "metadata": {
    "papermill": {
     "duration": 0.016028,
     "end_time": "2021-01-18T10:42:12.049378",
     "exception": false,
     "start_time": "2021-01-18T10:42:12.033350",
     "status": "completed"
    },
    "tags": []
   },
   "outputs": [],
   "source": []
  },
  {
   "cell_type": "code",
   "execution_count": null,
   "metadata": {
    "papermill": {
     "duration": 0.016085,
     "end_time": "2021-01-18T10:42:12.081852",
     "exception": false,
     "start_time": "2021-01-18T10:42:12.065767",
     "status": "completed"
    },
    "tags": []
   },
   "outputs": [],
   "source": []
  },
  {
   "cell_type": "code",
   "execution_count": null,
   "metadata": {
    "papermill": {
     "duration": 0.015941,
     "end_time": "2021-01-18T10:42:12.114185",
     "exception": false,
     "start_time": "2021-01-18T10:42:12.098244",
     "status": "completed"
    },
    "tags": []
   },
   "outputs": [],
   "source": []
  },
  {
   "cell_type": "code",
   "execution_count": null,
   "metadata": {
    "papermill": {
     "duration": 0.016793,
     "end_time": "2021-01-18T10:42:12.148366",
     "exception": false,
     "start_time": "2021-01-18T10:42:12.131573",
     "status": "completed"
    },
    "tags": []
   },
   "outputs": [],
   "source": []
  },
  {
   "cell_type": "code",
   "execution_count": null,
   "metadata": {
    "papermill": {
     "duration": 0.016733,
     "end_time": "2021-01-18T10:42:12.181933",
     "exception": false,
     "start_time": "2021-01-18T10:42:12.165200",
     "status": "completed"
    },
    "tags": []
   },
   "outputs": [],
   "source": []
  },
  {
   "cell_type": "code",
   "execution_count": null,
   "metadata": {
    "papermill": {
     "duration": 0.016163,
     "end_time": "2021-01-18T10:42:12.214591",
     "exception": false,
     "start_time": "2021-01-18T10:42:12.198428",
     "status": "completed"
    },
    "tags": []
   },
   "outputs": [],
   "source": []
  }
 ],
 "metadata": {
  "kernelspec": {
   "display_name": "Python 3",
   "language": "python",
   "name": "python3"
  },
  "language_info": {
   "codemirror_mode": {
    "name": "ipython",
    "version": 3
   },
   "file_extension": ".py",
   "mimetype": "text/x-python",
   "name": "python",
   "nbconvert_exporter": "python",
   "pygments_lexer": "ipython3",
   "version": "3.7.6"
  },
  "papermill": {
   "duration": 7.159093,
   "end_time": "2021-01-18T10:42:12.339759",
   "environment_variables": {},
   "exception": null,
   "input_path": "__notebook__.ipynb",
   "output_path": "__notebook__.ipynb",
   "parameters": {},
   "start_time": "2021-01-18T10:42:05.180666",
   "version": "2.1.0"
  }
 },
 "nbformat": 4,
 "nbformat_minor": 4
}
